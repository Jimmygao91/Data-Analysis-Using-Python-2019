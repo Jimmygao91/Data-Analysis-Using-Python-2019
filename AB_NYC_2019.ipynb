{
 "cells": [
  {
   "cell_type": "markdown",
   "metadata": {},
   "source": [
    "首先导入数据，数据为2019年纽约Airbnb公开数据"
   ]
  },
  {
   "cell_type": "code",
   "execution_count": 1,
   "metadata": {},
   "outputs": [
    {
     "name": "stdout",
     "output_type": "stream",
     "text": [
      "     id                                              name  host_id  \\\n",
      "0  2539                Clean & quiet apt home by the park     2787   \n",
      "1  2595                             Skylit Midtown Castle     2845   \n",
      "2  3647               THE VILLAGE OF HARLEM....NEW YORK !     4632   \n",
      "3  3831                   Cozy Entire Floor of Brownstone     4869   \n",
      "4  5022  Entire Apt: Spacious Studio/Loft by central park     7192   \n",
      "5  5099         Large Cozy 1 BR Apartment In Midtown East     7322   \n",
      "6  5121                                   BlissArtsSpace!     7356   \n",
      "7  5178                  Large Furnished Room Near B'way      8967   \n",
      "8  5203                Cozy Clean Guest Room - Family Apt     7490   \n",
      "9  5238                Cute & Cozy Lower East Side 1 bdrm     7549   \n",
      "\n",
      "     host_name neighbourhood_group       neighbourhood  latitude  longitude  \\\n",
      "0         John            Brooklyn          Kensington  40.64749  -73.97237   \n",
      "1     Jennifer           Manhattan             Midtown  40.75362  -73.98377   \n",
      "2    Elisabeth           Manhattan              Harlem  40.80902  -73.94190   \n",
      "3  LisaRoxanne            Brooklyn        Clinton Hill  40.68514  -73.95976   \n",
      "4        Laura           Manhattan         East Harlem  40.79851  -73.94399   \n",
      "5        Chris           Manhattan         Murray Hill  40.74767  -73.97500   \n",
      "6        Garon            Brooklyn  Bedford-Stuyvesant  40.68688  -73.95596   \n",
      "7     Shunichi           Manhattan      Hell's Kitchen  40.76489  -73.98493   \n",
      "8    MaryEllen           Manhattan     Upper West Side  40.80178  -73.96723   \n",
      "9          Ben           Manhattan           Chinatown  40.71344  -73.99037   \n",
      "\n",
      "         room_type  price  minimum_nights  number_of_reviews last_review  \\\n",
      "0     Private room    149               1                  9  2018-10-19   \n",
      "1  Entire home/apt    225               1                 45  2019-05-21   \n",
      "2     Private room    150               3                  0         NaN   \n",
      "3  Entire home/apt     89               1                270  2019-07-05   \n",
      "4  Entire home/apt     80              10                  9  2018-11-19   \n",
      "5  Entire home/apt    200               3                 74  2019-06-22   \n",
      "6     Private room     60              45                 49  2017-10-05   \n",
      "7     Private room     79               2                430  2019-06-24   \n",
      "8     Private room     79               2                118  2017-07-21   \n",
      "9  Entire home/apt    150               1                160  2019-06-09   \n",
      "\n",
      "   reviews_per_month  calculated_host_listings_count  availability_365  \n",
      "0               0.21                               6               365  \n",
      "1               0.38                               2               355  \n",
      "2                NaN                               1               365  \n",
      "3               4.64                               1               194  \n",
      "4               0.10                               1                 0  \n",
      "5               0.59                               1               129  \n",
      "6               0.40                               1                 0  \n",
      "7               3.47                               1               220  \n",
      "8               0.99                               1                 0  \n",
      "9               1.33                               4               188  \n"
     ]
    }
   ],
   "source": [
    "import pandas as pd\n",
    "import numpy as np\n",
    "\n",
    "filename=\"https://raw.githubusercontent.com/ShaoZC/Data-Analysis-Using-Python/master/new-york-city-airbnb-open-data.csv\"\n",
    "AB_NYC_2019=pd.read_csv(filename)\n",
    "print(AB_NYC_2019.head(10))"
   ]
  },
  {
   "cell_type": "code",
   "execution_count": null,
   "metadata": {},
   "outputs": [],
   "source": []
  }
 ],
 "metadata": {
  "kernelspec": {
   "display_name": "Python 3",
   "language": "python",
   "name": "python3"
  },
  "language_info": {
   "codemirror_mode": {
    "name": "ipython",
    "version": 3
   },
   "file_extension": ".py",
   "mimetype": "text/x-python",
   "name": "python",
   "nbconvert_exporter": "python",
   "pygments_lexer": "ipython3",
   "version": "3.7.3"
  }
 },
 "nbformat": 4,
 "nbformat_minor": 2
}
