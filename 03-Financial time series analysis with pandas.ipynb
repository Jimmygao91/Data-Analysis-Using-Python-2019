{
 "cells": [
  {
   "cell_type": "code",
   "execution_count": 5,
   "metadata": {
    "collapsed": true
   },
   "outputs": [],
   "source": [
    "import tushare as ts\n",
    "import pandas as pd\n",
    "from IPython.display import HTML"
   ]
  },
  {
   "cell_type": "markdown",
   "metadata": {},
   "source": [
<<<<<<< HEAD
    "## 以下内容为对数据进行清洗，然后使用pandas来对股票数据处理，最后使用matplotlib分析股票变动趋势。"
=======
    "1銆佺嚎鍥炬晥鏋滐紙鍏崇郴鍥炬敼閫狅級\n",
    "======"
>>>>>>> a8d8129a50929f37c1cb18ae1670bd55a43f38ae
   ]
  },
  {
   "cell_type": "code",
<<<<<<< HEAD
   "execution_count": null,
=======
   "execution_count": 27,
   "metadata": {
    "collapsed": false
   },
   "outputs": [],
   "source": [
    "#鍘嗗勾鍓嶅崄澶ц偂涓滄寔鑲℃儏鍐礬n",
    "#df1涓哄搴︾粺璁℃憳瑕侊紝data1涓哄墠鍗佸ぇ鎸佽偂鏄庣粏缁熻\n",
    "df1, data1 = ts.top10_holders(code='600000', gdtype='0') #gdtype绛変簬1鏃惰〃绀烘祦閫氳偂锛岄粯璁や负0 "
   ]
  },
  {
   "cell_type": "code",
   "execution_count": 28,
   "metadata": {
    "collapsed": true
   },
   "outputs": [],
   "source": [
    "df1 = df1.sort_values('quarter', ascending=True)"
   ]
  },
  {
   "cell_type": "code",
   "execution_count": 29,
   "metadata": {
    "collapsed": false
   },
   "outputs": [
    {
     "data": {
      "text/html": [
       "<div>\n",
       "<table border=\"1\" class=\"dataframe\">\n",
       "  <thead>\n",
       "    <tr style=\"text-align: right;\">\n",
       "      <th></th>\n",
       "      <th>quarter</th>\n",
       "      <th>amount</th>\n",
       "      <th>changed</th>\n",
       "      <th>props</th>\n",
       "    </tr>\n",
       "  </thead>\n",
       "  <tbody>\n",
       "    <tr>\n",
       "      <th>9</th>\n",
       "      <td>2014-12-31</td>\n",
       "      <td>910420.45</td>\n",
       "      <td>-9064.14</td>\n",
       "      <td>48.81</td>\n",
       "    </tr>\n",
       "    <tr>\n",
       "      <th>8</th>\n",
       "      <td>2015-03-31</td>\n",
       "      <td>912166.01</td>\n",
       "      <td>1745.56</td>\n",
       "      <td>48.90</td>\n",
       "    </tr>\n",
       "    <tr>\n",
       "      <th>7</th>\n",
       "      <td>2015-06-30</td>\n",
       "      <td>937424.47</td>\n",
       "      <td>25258.46</td>\n",
       "      <td>50.25</td>\n",
       "    </tr>\n",
       "    <tr>\n",
       "      <th>6</th>\n",
       "      <td>2015-09-30</td>\n",
       "      <td>1157483.27</td>\n",
       "      <td>220058.80</td>\n",
       "      <td>62.05</td>\n",
       "    </tr>\n",
       "    <tr>\n",
       "      <th>5</th>\n",
       "      <td>2015-12-31</td>\n",
       "      <td>1318904.08</td>\n",
       "      <td>161420.81</td>\n",
       "      <td>70.70</td>\n",
       "    </tr>\n",
       "    <tr>\n",
       "      <th>4</th>\n",
       "      <td>2016-03-15</td>\n",
       "      <td>1364799.92</td>\n",
       "      <td>45895.84</td>\n",
       "      <td>73.16</td>\n",
       "    </tr>\n",
       "    <tr>\n",
       "      <th>3</th>\n",
       "      <td>2016-03-18</td>\n",
       "      <td>1440154.76</td>\n",
       "      <td>75354.84</td>\n",
       "      <td>73.27</td>\n",
       "    </tr>\n",
       "    <tr>\n",
       "      <th>2</th>\n",
       "      <td>2016-03-31</td>\n",
       "      <td>1439599.89</td>\n",
       "      <td>-554.87</td>\n",
       "      <td>73.25</td>\n",
       "    </tr>\n",
       "    <tr>\n",
       "      <th>1</th>\n",
       "      <td>2016-06-30</td>\n",
       "      <td>1587371.15</td>\n",
       "      <td>147771.26</td>\n",
       "      <td>73.42</td>\n",
       "    </tr>\n",
       "    <tr>\n",
       "      <th>0</th>\n",
       "      <td>2016-09-30</td>\n",
       "      <td>1585130.30</td>\n",
       "      <td>-2240.85</td>\n",
       "      <td>73.32</td>\n",
       "    </tr>\n",
       "  </tbody>\n",
       "</table>\n",
       "</div>"
      ],
      "text/plain": [
       "      quarter      amount    changed  props\n",
       "9  2014-12-31   910420.45   -9064.14  48.81\n",
       "8  2015-03-31   912166.01    1745.56  48.90\n",
       "7  2015-06-30   937424.47   25258.46  50.25\n",
       "6  2015-09-30  1157483.27  220058.80  62.05\n",
       "5  2015-12-31  1318904.08  161420.81  70.70\n",
       "4  2016-03-15  1364799.92   45895.84  73.16\n",
       "3  2016-03-18  1440154.76   75354.84  73.27\n",
       "2  2016-03-31  1439599.89    -554.87  73.25\n",
       "1  2016-06-30  1587371.15  147771.26  73.42\n",
       "0  2016-09-30  1585130.30   -2240.85  73.32"
      ]
     },
     "execution_count": 29,
     "metadata": {},
     "output_type": "execute_result"
    }
   ],
   "source": [
    "df1.tail(10)"
   ]
  },
  {
   "cell_type": "code",
   "execution_count": 11,
   "metadata": {
    "collapsed": true
   },
   "outputs": [],
   "source": [
    "qts = list(df1['quarter'])\n",
    "data = list(df1['props'])"
   ]
  },
  {
   "cell_type": "code",
   "execution_count": 12,
   "metadata": {
    "collapsed": true
   },
   "outputs": [],
   "source": [
    "lgdstr = \"\"\"\n",
    "var axisData = \"\"\" + str(qts) + \"\"\";\n",
    "var data = \"\"\" + str(data) + \"\"\";\n",
    "var links = data.map(function (item, i) {\n",
    "    return {\n",
    "        source: i,\n",
    "        target: i + 1\n",
    "    };\n",
    "});\n",
    "links.pop();\n",
    "option = {\n",
    "    title: {\n",
    "        text: '銆愭郸鍙戦摱琛屻€戝墠鍗佸ぇ娴侀€氳偂涓滄寔鑲″崰姣�'\n",
    "    },\n",
    "    tooltip: {\n",
    "        trigger: 'item'\n",
    "    },\n",
    "    xAxis: {\n",
    "        type : 'category',\n",
    "        boundaryGap : false,\n",
    "        data : axisData\n",
    "    },\n",
    "    yAxis: {\n",
    "        type : 'value'\n",
    "    },\n",
    "    series: [\n",
    "        {\n",
    "            type: 'line',\n",
    "            layout: 'none',\n",
    "            coordinateSystem: 'cartesian2d',\n",
    "            symbolSize: 10,\n",
    "            label: {\n",
    "                normal: {\n",
    "                    show: true\n",
    "                }\n",
    "            },\n",
    "            edgeSymbol: ['circle', 'arrow'],\n",
    "            edgeSymbolSize: [2, 5],\n",
    "            data: data,\n",
    "            links: links,\n",
    "            lineStyle: {\n",
    "                normal: {\n",
    "                    color: '#2f4554'\n",
    "                }\n",
    "            }\n",
    "        }\n",
    "    ]\n",
    "};\n",
    "\"\"\""
   ]
  },
  {
   "cell_type": "code",
   "execution_count": 13,
   "metadata": {
    "collapsed": true
   },
   "outputs": [],
   "source": [
    "headstr = \"\"\"\n",
    "<div id=\"showhere\" style=\"width:800px; height:600px;\"></div> \n",
    "<script> \n",
    "require.config({ paths:{ echarts: '//cdn.bootcss.com/echarts/3.2.3/echarts.min', } });\n",
    "require(['echarts'],function(ec){\n",
    "var myChart = ec.init(document.getElementById('showhere'));\n",
    "\"\"\"\n",
    "\n",
    "tailstr = \"\"\"\n",
    "myChart.setOption(option);\n",
    "    });\n",
    "</script>\n",
    "\"\"\""
   ]
  },
  {
   "cell_type": "code",
   "execution_count": 14,
   "metadata": {
    "collapsed": false
   },
   "outputs": [
    {
     "data": {
      "text/html": [
       "\n",
       "<div id=\"showhere\" style=\"width:800px; height:600px;\"></div> \n",
       "<script> \n",
       "require.config({ paths:{ echarts: '//cdn.bootcss.com/echarts/3.2.3/echarts.min', } });\n",
       "require(['echarts'],function(ec){\n",
       "var myChart = ec.init(document.getElementById('showhere'));\n",
       "\n",
       "var axisData = ['2005-09-30', '2005-12-31', '2006-06-30', '2006-09-30', '2006-10-30', '2006-11-29', '2006-12-31', '2007-06-30', '2007-09-30', '2007-12-31', '2008-06-30', '2008-09-30', '2008-12-31', '2009-03-31', '2009-06-30', '2009-09-28', '2009-09-30', '2009-12-31', '2010-03-31', '2010-06-30', '2010-09-30', '2010-10-14', '2010-12-31', '2011-03-31', '2011-06-30', '2011-09-30', '2011-12-31', '2012-03-31', '2012-06-30', '2012-09-30', '2012-12-31', '2013-03-31', '2013-06-30', '2013-09-30', '2013-12-31', '2014-03-31', '2014-06-30', '2014-09-30', '2014-12-31', '2015-03-31', '2015-06-30', '2015-09-30', '2015-12-31', '2016-03-15', '2016-03-18', '2016-03-31', '2016-06-30', '2016-09-30'];\n",
       "var data = ['37.94', '37.31', '45.81', '45.81', '45.81', '47.20', '47.11', '48.82', '47.99', '47.39', '47.09', '45.48', '44.38', '44.24', '43.86', '40.82', '40.84', '41.11', '40.95', '41.10', '41.11', '52.00', '52.51', '52.51', '52.09', '52.06', '51.95', '50.35', '50.08', '50.13', '49.35', '48.95', '49.34', '49.36', '49.47', '49.87', '48.72', '49.29', '48.81', '48.90', '50.25', '62.05', '70.70', '73.16', '73.27', '73.25', '73.42', '73.32'];\n",
       "var links = data.map(function (item, i) {\n",
       "    return {\n",
       "        source: i,\n",
       "        target: i + 1\n",
       "    };\n",
       "});\n",
       "links.pop();\n",
       "option = {\n",
       "    title: {\n",
       "        text: '銆愭郸鍙戦摱琛屻€戝墠鍗佸ぇ娴侀€氳偂涓滄寔鑲″崰姣�'\n",
       "    },\n",
       "    tooltip: {\n",
       "        trigger: 'item'\n",
       "    },\n",
       "    xAxis: {\n",
       "        type : 'category',\n",
       "        boundaryGap : false,\n",
       "        data : axisData\n",
       "    },\n",
       "    yAxis: {\n",
       "        type : 'value'\n",
       "    },\n",
       "    series: [\n",
       "        {\n",
       "            type: 'line',\n",
       "            layout: 'none',\n",
       "            coordinateSystem: 'cartesian2d',\n",
       "            symbolSize: 10,\n",
       "            label: {\n",
       "                normal: {\n",
       "                    show: true\n",
       "                }\n",
       "            },\n",
       "            edgeSymbol: ['circle', 'arrow'],\n",
       "            edgeSymbolSize: [2, 5],\n",
       "            data: data,\n",
       "            links: links,\n",
       "            lineStyle: {\n",
       "                normal: {\n",
       "                    color: '#2f4554'\n",
       "                }\n",
       "            }\n",
       "        }\n",
       "    ]\n",
       "};\n",
       "\n",
       "myChart.setOption(option);\n",
       "    });\n",
       "</script>\n"
      ],
      "text/plain": [
       "<IPython.core.display.HTML object>"
      ]
     },
     "execution_count": 14,
     "metadata": {},
     "output_type": "execute_result"
    }
   ],
   "source": [
    "HTML(headstr + lgdstr + tailstr)"
   ]
  },
  {
   "cell_type": "markdown",
>>>>>>> a8d8129a50929f37c1cb18ae1670bd55a43f38ae
   "metadata": {},
   "source": [
    "2銆侀ゼ鍥炬晥鏋淺n",
    "======"
   ]
  },
  {
   "cell_type": "code",
   "execution_count": 16,
   "metadata": {
    "collapsed": true
   },
   "outputs": [],
   "source": [
<<<<<<< HEAD
    "import pandas as pd\n",
    "import numpy as np\n",
    "from pandas_datareader import data, wb\n",
    "import datetime\n",
    "import matplotlib.pyplot as plt\n",
    "import matplotlib\n",
    "matplotlib.style.use('ggplot')\n",
    "# %matplotlib inline"
   ]
  },
  {
   "cell_type": "markdown",
   "metadata": {},
   "source": [
    "# 1、首先导入数据，数据为2019年上证指数的公开数据"
=======
    "#娴﹀彂閾惰2016涓夊搴﹀墠鍗佸ぇ娴侀€氳偂涓滄儏鍐礬n",
    "df2, data2 = ts.top10_holders(code='600000', year=2016, quarter=3, gdtype='1')"
   ]
  },
  {
   "cell_type": "code",
   "execution_count": 17,
   "metadata": {
    "collapsed": false,
    "scrolled": true
   },
   "outputs": [
    {
     "data": {
      "text/html": [
       "<div>\n",
       "<table border=\"1\" class=\"dataframe\">\n",
       "  <thead>\n",
       "    <tr style=\"text-align: right;\">\n",
       "      <th></th>\n",
       "      <th>quarter</th>\n",
       "      <th>name</th>\n",
       "      <th>hold</th>\n",
       "      <th>h_pro</th>\n",
       "      <th>sharetype</th>\n",
       "      <th>status</th>\n",
       "    </tr>\n",
       "  </thead>\n",
       "  <tbody>\n",
       "    <tr>\n",
       "      <th>0</th>\n",
       "      <td>2016-09-30</td>\n",
       "      <td>涓浗绉诲姩閫氫俊闆嗗洟骞夸笢鏈夐檺鍏徃</td>\n",
       "      <td>410376.37</td>\n",
       "      <td>20.00</td>\n",
       "      <td>娴侀€欰鑲�</td>\n",
       "      <td>鏈彉</td>\n",
       "    </tr>\n",
       "    <tr>\n",
       "      <th>1</th>\n",
       "      <td>2016-09-30</td>\n",
       "      <td>涓婃捣鍥介檯闆嗗洟鏈夐檺鍏徃</td>\n",
       "      <td>347326.53</td>\n",
       "      <td>16.93</td>\n",
       "      <td>娴侀€欰鑲�</td>\n",
       "      <td>鏈彉</td>\n",
       "    </tr>\n",
       "    <tr>\n",
       "      <th>2</th>\n",
       "      <td>2016-09-30</td>\n",
       "      <td>瀵屽痉鐢熷懡浜哄淇濋櫓鑲′唤鏈夐檺鍏徃锛嶄紶缁�</td>\n",
       "      <td>213802.87</td>\n",
       "      <td>10.42</td>\n",
       "      <td>娴侀€欰鑲�</td>\n",
       "      <td>鏈彉</td>\n",
       "    </tr>\n",
       "    <tr>\n",
       "      <th>3</th>\n",
       "      <td>2016-09-30</td>\n",
       "      <td>瀵屽痉鐢熷懡浜哄淇濋櫓鑲′唤鏈夐檺鍏徃锛嶈祫鏈噾</td>\n",
       "      <td>135633.26</td>\n",
       "      <td>6.61</td>\n",
       "      <td>娴侀€欰鑲�</td>\n",
       "      <td>鏈彉</td>\n",
       "    </tr>\n",
       "    <tr>\n",
       "      <th>4</th>\n",
       "      <td>2016-09-30</td>\n",
       "      <td>涓婃捣涓婂浗鎶曡祫浜х鐞嗘湁闄愬叕鍙�</td>\n",
       "      <td>107351.62</td>\n",
       "      <td>5.23</td>\n",
       "      <td>娴侀€欰鑲�</td>\n",
       "      <td>鏈彉</td>\n",
       "    </tr>\n",
       "    <tr>\n",
       "      <th>5</th>\n",
       "      <td>2016-09-30</td>\n",
       "      <td>瀵屽痉鐢熷懡浜哄淇濋櫓鑲′唤鏈夐檺鍏徃锛嶄竾鑳紿</td>\n",
       "      <td>97725.28</td>\n",
       "      <td>4.76</td>\n",
       "      <td>娴侀€欰鑲�</td>\n",
       "      <td>鏈彉</td>\n",
       "    </tr>\n",
       "    <tr>\n",
       "      <th>6</th>\n",
       "      <td>2016-09-30</td>\n",
       "      <td>姊ф鏍戞姇璧勫钩鍙版湁闄愯矗浠诲叕鍙�</td>\n",
       "      <td>68163.95</td>\n",
       "      <td>3.32</td>\n",
       "      <td>娴侀€欰鑲�</td>\n",
       "      <td>鏈彉</td>\n",
       "    </tr>\n",
       "    <tr>\n",
       "      <th>7</th>\n",
       "      <td>2016-09-30</td>\n",
       "      <td>涓浗璇佸埜閲戣瀺鑲′唤鏈夐檺鍏徃</td>\n",
       "      <td>57684.91</td>\n",
       "      <td>2.81</td>\n",
       "      <td>娴侀€欰鑲�</td>\n",
       "      <td>-2240.85</td>\n",
       "    </tr>\n",
       "    <tr>\n",
       "      <th>8</th>\n",
       "      <td>2016-09-30</td>\n",
       "      <td>涓婃捣鍥介懌鎶曡祫鍙戝睍鏈夐檺鍏徃</td>\n",
       "      <td>41481.22</td>\n",
       "      <td>2.02</td>\n",
       "      <td>娴侀€欰鑲�</td>\n",
       "      <td>鏈彉</td>\n",
       "    </tr>\n",
       "    <tr>\n",
       "      <th>9</th>\n",
       "      <td>2016-09-30</td>\n",
       "      <td>涓ぎ姹囬噾璧勪骇绠＄悊鏈夐檺璐ｄ换鍏徃</td>\n",
       "      <td>30655.49</td>\n",
       "      <td>1.49</td>\n",
       "      <td>娴侀€欰鑲�</td>\n",
       "      <td>鏈彉</td>\n",
       "    </tr>\n",
       "  </tbody>\n",
       "</table>\n",
       "</div>"
      ],
      "text/plain": [
       "      quarter                name       hold  h_pro sharetype    status\n",
       "0  2016-09-30      涓浗绉诲姩閫氫俊闆嗗洟骞夸笢鏈夐檺鍏徃  410376.37  20.00      娴侀€欰鑲�        鏈彉\n",
       "1  2016-09-30          涓婃捣鍥介檯闆嗗洟鏈夐檺鍏徃  347326.53  16.93      娴侀€欰鑲�        鏈彉\n",
       "2  2016-09-30   瀵屽痉鐢熷懡浜哄淇濋櫓鑲′唤鏈夐檺鍏徃锛嶄紶缁�  213802.87  10.42      娴侀€欰鑲�        鏈彉\n",
       "3  2016-09-30  瀵屽痉鐢熷懡浜哄淇濋櫓鑲′唤鏈夐檺鍏徃锛嶈祫鏈噾  135633.26   6.61      娴侀€欰鑲�        鏈彉\n",
       "4  2016-09-30       涓婃捣涓婂浗鎶曡祫浜х鐞嗘湁闄愬叕鍙�  107351.62   5.23      娴侀€欰鑲�        鏈彉\n",
       "5  2016-09-30  瀵屽痉鐢熷懡浜哄淇濋櫓鑲′唤鏈夐檺鍏徃锛嶄竾鑳紿   97725.28   4.76      娴侀€欰鑲�        鏈彉\n",
       "6  2016-09-30       姊ф鏍戞姇璧勫钩鍙版湁闄愯矗浠诲叕鍙�   68163.95   3.32      娴侀€欰鑲�        鏈彉\n",
       "7  2016-09-30        涓浗璇佸埜閲戣瀺鑲′唤鏈夐檺鍏徃   57684.91   2.81      娴侀€欰鑲�  -2240.85\n",
       "8  2016-09-30        涓婃捣鍥介懌鎶曡祫鍙戝睍鏈夐檺鍏徃   41481.22   2.02      娴侀€欰鑲�        鏈彉\n",
       "9  2016-09-30      涓ぎ姹囬噾璧勪骇绠＄悊鏈夐檺璐ｄ换鍏徃   30655.49   1.49      娴侀€欰鑲�        鏈彉"
      ]
     },
     "execution_count": 17,
     "metadata": {},
     "output_type": "execute_result"
    }
   ],
   "source": [
    "data2"
   ]
  },
  {
   "cell_type": "code",
   "execution_count": 18,
   "metadata": {
    "collapsed": true
   },
   "outputs": [],
   "source": [
    "#鍙栧墠鍗佸ぇ娴侀€氳偂涓滃悕绉癨n",
    "top10name = str(list(data2['name']))"
   ]
  },
  {
   "cell_type": "code",
   "execution_count": 19,
   "metadata": {
    "collapsed": true
   },
   "outputs": [],
   "source": [
    "valstrs = ''\n",
    "for idx in data2.index:\n",
    "    s = '{value: %s, name: \\'%s\\'}' % (data2.ix[idx]['h_pro'], data2.ix[idx]['name'])\n",
    "    valstrs += s + ','\n",
    "valstrs = valstrs[:-1]"
>>>>>>> a8d8129a50929f37c1cb18ae1670bd55a43f38ae
   ]
  },
  {
   "cell_type": "code",
<<<<<<< HEAD
   "execution_count": 10,
   "metadata": {},
   "outputs": [
    {
     "data": {
      "image/png": "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\n",
      "text/plain": [
       "<Figure size 432x288 with 1 Axes>"
      ]
     },
     "metadata": {},
     "output_type": "display_data"
    }
   ],
   "source": [
    "start=datetime.datetime(2019,1,1)\n",
    "end=datetime.datetime(2019,11,30)\n",
    "stock=\"000001.ss\"\n",
    "name=\"yahoo\"\n",
    "sh=data.DataReader(stock,name,start,end)\n",
    "# print(sh.head())\n",
    "sh[\"Close\"].plot()\n",
    "plt.show()"
   ]
  },
  {
   "cell_type": "markdown",
   "metadata": {},
   "source": [
    "# 2、检查缺失值"
=======
   "execution_count": 20,
   "metadata": {
    "collapsed": true
   },
   "outputs": [],
   "source": [
    "datacontent = \"\"\"\n",
    "option = {\n",
    "    tooltip: {\n",
    "        trigger: 'item',\n",
    "        formatter: \"{a} <br/>{b}: {c} ({d}%)\"\n",
    "    },\n",
    "    legend: {\n",
    "        orient: 'vertical',\n",
    "        x: 'left',\n",
    "        data: \"\"\" + top10name +\"\"\"\n",
    "    },\n",
    "    series: [\n",
    "        {\n",
    "            name:'鍓嶅崄澶ф祦閫氳偂涓滐細',\n",
    "            type:'pie',\n",
    "            radius: ['50%', '70%'],\n",
    "            avoidLabelOverlap: false,\n",
    "            label: {\n",
    "                normal: {\n",
    "                    show: false,\n",
    "                    position: 'center'\n",
    "                },\n",
    "                emphasis: {\n",
    "                    show: true,\n",
    "                    textStyle: {\n",
    "                        fontSize: '30',\n",
    "                        fontWeight: 'bold'\n",
    "                    }\n",
    "                }\n",
    "            },\n",
    "            labelLine: {\n",
    "                normal: {\n",
    "                    show: false\n",
    "                }\n",
    "            },\n",
    "            data:[\n",
    "                \"\"\" + valstrs + \"\"\"\n",
    "            ]\n",
    "        }\n",
    "    ]\n",
    "};\n",
    "\n",
    "\"\"\""
   ]
  },
  {
   "cell_type": "code",
   "execution_count": 21,
   "metadata": {
    "collapsed": true
   },
   "outputs": [],
   "source": [
    "headstr = \"\"\"\n",
    "<div id=\"mychart\" style=\"width:800px; height:600px;\"></div> \n",
    "<script> \n",
    "require.config({ paths:{ echarts: '//cdn.bootcss.com/echarts/3.2.3/echarts.min', } });\n",
    "require(['echarts'],function(ec){\n",
    "var myChart = ec.init(document.getElementById('mychart'));\n",
    "\"\"\"\n",
    "\n",
    "tailstr = \"\"\"\n",
    "myChart.setOption(option);\n",
    "    });\n",
    "</script>\n",
    "\"\"\""
>>>>>>> a8d8129a50929f37c1cb18ae1670bd55a43f38ae
   ]
  },
  {
   "cell_type": "code",
<<<<<<< HEAD
   "execution_count": 11,
   "metadata": {},
   "outputs": [
    {
     "data": {
      "text/plain": [
       "False"
      ]
     },
     "execution_count": 11,
=======
   "execution_count": 22,
   "metadata": {
    "collapsed": false
   },
   "outputs": [
    {
     "data": {
      "text/html": [
       "\n",
       "<div id=\"mychart\" style=\"width:800px; height:600px;\"></div> \n",
       "<script> \n",
       "require.config({ paths:{ echarts: '//cdn.bootcss.com/echarts/3.2.3/echarts.min', } });\n",
       "require(['echarts'],function(ec){\n",
       "var myChart = ec.init(document.getElementById('mychart'));\n",
       "\n",
       "option = {\n",
       "    tooltip: {\n",
       "        trigger: 'item',\n",
       "        formatter: \"{a} <br/>{b}: {c} ({d}%)\"\n",
       "    },\n",
       "    legend: {\n",
       "        orient: 'vertical',\n",
       "        x: 'left',\n",
       "        data: ['涓浗绉诲姩閫氫俊闆嗗洟骞夸笢鏈夐檺鍏徃', '涓婃捣鍥介檯闆嗗洟鏈夐檺鍏徃', '瀵屽痉鐢熷懡浜哄淇濋櫓鑲′唤鏈夐檺鍏徃锛嶄紶缁�', '瀵屽痉鐢熷懡浜哄淇濋櫓鑲′唤鏈夐檺鍏徃锛嶈祫鏈噾', '涓婃捣涓婂浗鎶曡祫浜х鐞嗘湁闄愬叕鍙�', '瀵屽痉鐢熷懡浜哄淇濋櫓鑲′唤鏈夐檺鍏徃锛嶄竾鑳紿', '姊ф鏍戞姇璧勫钩鍙版湁闄愯矗浠诲叕鍙�', '涓浗璇佸埜閲戣瀺鑲′唤鏈夐檺鍏徃', '涓婃捣鍥介懌鎶曡祫鍙戝睍鏈夐檺鍏徃', '涓ぎ姹囬噾璧勪骇绠＄悊鏈夐檺璐ｄ换鍏徃']\n",
       "    },\n",
       "    series: [\n",
       "        {\n",
       "            name:'鍓嶅崄澶ф祦閫氳偂涓滐細',\n",
       "            type:'pie',\n",
       "            radius: ['50%', '70%'],\n",
       "            avoidLabelOverlap: false,\n",
       "            label: {\n",
       "                normal: {\n",
       "                    show: false,\n",
       "                    position: 'center'\n",
       "                },\n",
       "                emphasis: {\n",
       "                    show: true,\n",
       "                    textStyle: {\n",
       "                        fontSize: '30',\n",
       "                        fontWeight: 'bold'\n",
       "                    }\n",
       "                }\n",
       "            },\n",
       "            labelLine: {\n",
       "                normal: {\n",
       "                    show: false\n",
       "                }\n",
       "            },\n",
       "            data:[\n",
       "                {value: 20.00, name: '涓浗绉诲姩閫氫俊闆嗗洟骞夸笢鏈夐檺鍏徃'},{value: 16.93, name: '涓婃捣鍥介檯闆嗗洟鏈夐檺鍏徃'},{value: 10.42, name: '瀵屽痉鐢熷懡浜哄淇濋櫓鑲′唤鏈夐檺鍏徃锛嶄紶缁�'},{value: 6.61, name: '瀵屽痉鐢熷懡浜哄淇濋櫓鑲′唤鏈夐檺鍏徃锛嶈祫鏈噾'},{value: 5.23, name: '涓婃捣涓婂浗鎶曡祫浜х鐞嗘湁闄愬叕鍙�'},{value: 4.76, name: '瀵屽痉鐢熷懡浜哄淇濋櫓鑲′唤鏈夐檺鍏徃锛嶄竾鑳紿'},{value: 3.32, name: '姊ф鏍戞姇璧勫钩鍙版湁闄愯矗浠诲叕鍙�'},{value: 2.81, name: '涓浗璇佸埜閲戣瀺鑲′唤鏈夐檺鍏徃'},{value: 2.02, name: '涓婃捣鍥介懌鎶曡祫鍙戝睍鏈夐檺鍏徃'},{value: 1.49, name: '涓ぎ姹囬噾璧勪骇绠＄悊鏈夐檺璐ｄ换鍏徃'}\n",
       "            ]\n",
       "        }\n",
       "    ]\n",
       "};\n",
       "\n",
       "\n",
       "myChart.setOption(option);\n",
       "    });\n",
       "</script>\n"
      ],
      "text/plain": [
       "<IPython.core.display.HTML object>"
      ]
     },
     "execution_count": 22,
>>>>>>> a8d8129a50929f37c1cb18ae1670bd55a43f38ae
     "metadata": {},
     "output_type": "execute_result"
    }
   ],
   "source": [
<<<<<<< HEAD
    "# Detect missing values,用isnull函数\n",
    "p=pd.isnull(sh).head() # or sh.isnull()\n",
    "# print(p)\n",
    "# 有些时候会有数据缺失，不完整，需要查看一下\n",
    "# 利用any()函数，如果有可以用sum()函数查看有多少\n",
    "sh.isnull().values.any() # 数据很完整"
=======
    "HTML(headstr + datacontent + tailstr)"
>>>>>>> a8d8129a50929f37c1cb18ae1670bd55a43f38ae
   ]
  },
  {
   "cell_type": "markdown",
<<<<<<< HEAD
   "metadata": {},
   "source": [
    "# 3、计算涨跌额"
   ]
  },
  {
   "cell_type": "code",
   "execution_count": 12,
=======
>>>>>>> a8d8129a50929f37c1cb18ae1670bd55a43f38ae
   "metadata": {},
   "source": [
    "3銆並绾挎晥鏋滄紨绀篭n",
    "========="
   ]
  },
  {
   "cell_type": "code",
   "execution_count": 23,
   "metadata": {
    "collapsed": true
   },
   "outputs": [],
   "source": [
    "#涓浗鑱旈€氬墠澶嶆潈鏁版嵁\n",
    "df = ts.get_k_data('600050', start='2016-01-01', end='2016-12-02')\n",
    "datastr = ''\n",
    "for idx in df.index:\n",
    "    rowstr = '[\\'%s\\',%s,%s,%s,%s]' % (df.ix[idx]['date'], df.ix[idx]['open'], \n",
    "                                           df.ix[idx]['close'], df.ix[idx]['low'], \n",
    "                                           df.ix[idx]['high'])\n",
    "    datastr += rowstr + ','\n",
    "datastr = datastr[:-1]"
   ]
  },
  {
   "cell_type": "code",
   "execution_count": 24,
   "metadata": {
    "collapsed": true
   },
   "outputs": [],
   "source": [
    "#鍙栬偂绁ㄥ悕绉癨n",
    "name = ts.get_realtime_quotes('600050')['name'][0]"
   ]
  },
  {
   "cell_type": "code",
   "execution_count": 25,
   "metadata": {
    "collapsed": true
   },
   "outputs": [],
   "source": [
<<<<<<< HEAD
    "# 计算涨跌额\n",
    "# 涨跌额是指当日股票价格与前一日收盘价格相比的涨跌数值。添加一列change，其为当日close价格与之前一天的差值。当然注意这里数据有缺失，有的日期没有记录。\n",
    "change = sh.Close.diff()\n",
    "change.fillna(change.mean(),inplace=True)\n",
    "sh['Change'] = change\n",
    "# print(change.head(10))\n",
    "# print(sh.head(10))"
=======
    "datahead = \"\"\"\n",
    "<div id=\"chart\" style=\"width:800px; height:600px;\"></div> \n",
    "<script> \n",
    "require.config({ paths:{ echarts: '//cdn.bootcss.com/echarts/3.2.3/echarts.min', } });\n",
    "require(['echarts'],function(ec){\n",
    "var myChart = ec.init(document.getElementById('chart'));\n",
    "\"\"\"\n",
    "datavar = 'var data0 = splitData([%s]);' % datastr\n",
    "funcstr = \"\"\"\n",
    "function splitData(rawData) {\n",
    "    var categoryData = [];\n",
    "    var values = []\n",
    "    for (var i = 0; i < rawData.length; i++) {\n",
    "        categoryData.push(rawData[i].splice(0, 1)[0]);\n",
    "        values.push(rawData[i])\n",
    "    }\n",
    "    return {\n",
    "        categoryData: categoryData,\n",
    "        values: values\n",
    "    };\n",
    "}\n",
    "\n",
    "function calculateMA(dayCount) {\n",
    "    var result = [];\n",
    "    for (var i = 0, len = data0.values.length; i < len; i++) {\n",
    "        if (i < dayCount) {\n",
    "            result.push('-');\n",
    "            continue;\n",
    "        }\n",
    "        var sum = 0;\n",
    "        for (var j = 0; j < dayCount; j++) {\n",
    "            sum += data0.values[i - j][1];\n",
    "        }\n",
    "        result.push((sum / dayCount).toFixed(2));\n",
    "    }\n",
    "    return result;\n",
    "}\n",
    "\n",
    "option = {\n",
    "    title: {\n",
    "\"\"\"\n",
    "\n",
    "namestr = 'text: \\'%s\\',' %name\n",
    "\n",
    "functail = \"\"\"\n",
    "        left: 0\n",
    "    },\n",
    "    tooltip: {\n",
    "        trigger: 'axis',\n",
    "        axisPointer: {\n",
    "            type: 'line'\n",
    "        }\n",
    "    },\n",
    "    legend: {\n",
    "        data: ['鏃', 'MA5', 'MA10', 'MA20', 'MA30']\n",
    "    },\n",
    "    grid: {\n",
    "        left: '10%',\n",
    "        right: '10%',\n",
    "        bottom: '15%'\n",
    "    },\n",
    "    xAxis: {\n",
    "        type: 'category',\n",
    "        data: data0.categoryData,\n",
    "        scale: true,\n",
    "        boundaryGap : false,\n",
    "        axisLine: {onZero: false},\n",
    "        splitLine: {show: false},\n",
    "        splitNumber: 20,\n",
    "        min: 'dataMin',\n",
    "        max: 'dataMax'\n",
    "    },\n",
    "    yAxis: {\n",
    "        scale: true,\n",
    "        splitArea: {\n",
    "            show: true\n",
    "        }\n",
    "    },\n",
    "    dataZoom: [\n",
    "        {\n",
    "            type: 'inside',\n",
    "            start: 50,\n",
    "            end: 100\n",
    "        },\n",
    "        {\n",
    "            show: true,\n",
    "            type: 'slider',\n",
    "            y: '90%',\n",
    "            start: 50,\n",
    "            end: 100\n",
    "        }\n",
    "    ],\n",
    "    series: [\n",
    "        {\n",
    "            name: '鏃',\n",
    "            type: 'candlestick',\n",
    "            data: data0.values,\n",
    "            markPoint: {\n",
    "                label: {\n",
    "                    normal: {\n",
    "                        formatter: function (param) {\n",
    "                            return param != null ? Math.round(param.value) : '';\n",
    "                        }\n",
    "                    }\n",
    "                },\n",
    "                data: [\n",
    "                    {\n",
    "                        name: '鏍囩偣',\n",
    "                        coord: ['2013/5/31', 2300],\n",
    "                        value: 2300,\n",
    "                        itemStyle: {\n",
    "                            normal: {color: 'rgb(41,60,85)'}\n",
    "                        }\n",
    "                    },\n",
    "                    {\n",
    "                        name: 'highest value',\n",
    "                        type: 'max',\n",
    "                        valueDim: 'highest'\n",
    "                    },\n",
    "                    {\n",
    "                        name: 'lowest value',\n",
    "                        type: 'min',\n",
    "                        valueDim: 'lowest'\n",
    "                    },\n",
    "                    {\n",
    "                        name: 'average value on close',\n",
    "                        type: 'average',\n",
    "                        valueDim: 'close'\n",
    "                    }\n",
    "                ],\n",
    "                tooltip: {\n",
    "                    formatter: function (param) {\n",
    "                        return param.name + '<br>' + (param.data.coord || '');\n",
    "                    }\n",
    "                }\n",
    "            },\n",
    "            markLine: {\n",
    "                symbol: ['none', 'none'],\n",
    "                data: [\n",
    "                    [\n",
    "                        {\n",
    "                            name: 'from lowest to highest',\n",
    "                            type: 'min',\n",
    "                            valueDim: 'lowest',\n",
    "                            symbol: 'circle',\n",
    "                            symbolSize: 10,\n",
    "                            label: {\n",
    "                                normal: {show: false},\n",
    "                                emphasis: {show: false}\n",
    "                            }\n",
    "                        },\n",
    "                        {\n",
    "                            type: 'max',\n",
    "                            valueDim: 'highest',\n",
    "                            symbol: 'circle',\n",
    "                            symbolSize: 10,\n",
    "                            label: {\n",
    "                                normal: {show: false},\n",
    "                                emphasis: {show: false}\n",
    "                            }\n",
    "                        }\n",
    "                    ],\n",
    "                    {\n",
    "                        name: 'min line on close',\n",
    "                        type: 'min',\n",
    "                        valueDim: 'close'\n",
    "                    },\n",
    "                    {\n",
    "                        name: 'max line on close',\n",
    "                        type: 'max',\n",
    "                        valueDim: 'close'\n",
    "                    }\n",
    "                ]\n",
    "            }\n",
    "        },\n",
    "        {\n",
    "            name: 'MA5',\n",
    "            type: 'line',\n",
    "            data: calculateMA(5),\n",
    "            smooth: true,\n",
    "            lineStyle: {\n",
    "                normal: {opacity: 0.5}\n",
    "            }\n",
    "        },\n",
    "        {\n",
    "            name: 'MA10',\n",
    "            type: 'line',\n",
    "            data: calculateMA(10),\n",
    "            smooth: true,\n",
    "            lineStyle: {\n",
    "                normal: {opacity: 0.5}\n",
    "            }\n",
    "        },\n",
    "        {\n",
    "            name: 'MA20',\n",
    "            type: 'line',\n",
    "            data: calculateMA(20),\n",
    "            smooth: true,\n",
    "            lineStyle: {\n",
    "                normal: {opacity: 0.5}\n",
    "            }\n",
    "        },\n",
    "        {\n",
    "            name: 'MA30',\n",
    "            type: 'line',\n",
    "            data: calculateMA(30),\n",
    "            smooth: true,\n",
    "            lineStyle: {\n",
    "                normal: {opacity: 0.5}\n",
    "            }\n",
    "        },\n",
    "\n",
    "    ]\n",
    "};\n",
    "myChart.setOption(option);\n",
    "    });\n",
    "</script>\n",
    "\"\"\""
>>>>>>> a8d8129a50929f37c1cb18ae1670bd55a43f38ae
   ]
  },
  {
   "cell_type": "code",
<<<<<<< HEAD
   "execution_count": 13,
   "metadata": {},
   "outputs": [
    {
     "data": {
      "image/png": "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\n",
      "text/plain": [
       "<Figure size 432x288 with 1 Axes>"
      ]
     },
     "metadata": {},
     "output_type": "display_data"
    }
   ],
   "source": [
    "sh['Change'].plot()\n",
    "plt.show()\n",
    "#https://cloud.tencent.com/developer/article/1153038\n",
    "#Pandas雅虎金融数据获取与分析\n",
    "#pandas金融数据分析教程-part1\n",
    "#https://www.jianshu.com/p/0ae30a751eda"
   ]
  },
  {
   "cell_type": "markdown",
   "metadata": {},
   "source": [
    "# 4、分析变化率分布"
   ]
  },
  {
   "cell_type": "code",
   "execution_count": 14,
   "metadata": {},
   "outputs": [
    {
     "data": {
      "image/png": "iVBORw0KGgoAAAANSUhEUgAAAXQAAAD8CAYAAABn919SAAAABHNCSVQICAgIfAhkiAAAAAlwSFlzAAALEgAACxIB0t1+/AAAADl0RVh0U29mdHdhcmUAbWF0cGxvdGxpYiB2ZXJzaW9uIDMuMC4zLCBodHRwOi8vbWF0cGxvdGxpYi5vcmcvnQurowAAFnVJREFUeJzt3X9s1PXhx/HX9VpWfki5cl1JKyAVjCvBILYB8UcRTraIIUgYESdGzCSmyCIEts5lNAsyD6Fr49LGzTiZLtnoksHULSE5GG0iI1Sr05QERSVhDFuOO1qKJaV3n+8ffj2K7XE/ene9z5vn46+7D5+7z+s+/fTFp+/Pj3NYlmUJAGB7OaMdAACQGhQ6ABiCQgcAQ1DoAGAICh0ADEGhA4AhKHQAMASFDgCGoNABwBAUOgAYIjfTC/zf//6X6UUmzO12y+/3j3aMhNgxs2TP3GTODDJfVVJSEtd8cRd6OBxWTU2NCgsLVVNTo66uLjU0NKi3t1czZszQxo0blZub8f8fAAD/L+4hl3/+858qLS2NPP/Tn/6kZcuW6eWXX9b48eN16NChtAQEAMQnrkI/f/682tvbtWTJEkmSZVnq6OjQggULJEmLFi1SW1tb+lICAGKKa4xkz549evzxx9XX1ydJunjxosaNGyen0ylJKiwsVCAQGPa1Pp9PPp9PkuT1euV2u1ORO61yc3NtkXMwO2aW7JmbzJlB5iSWH2uG999/XwUFBSorK1NHR0fCC/B4PPJ4PJHndjjIwcGYzLFjbjJnBpmvStlB0RMnTui9997TBx98oP7+fvX19WnPnj366quvFAqF5HQ6FQgEVFhYOOLQAIDkxSz0xx57TI899pgkqaOjQ2+//bZ+8pOf6De/+Y2OHj2qe+65R4cPH1ZFRUXawwIAokv6wqIf/ehHeuedd7Rx40b19vZq8eLFqcwFAEhQQieOz549W7Nnz5YkFRcX68UXX0xLKABA4rgSCEhA6Onl6oxzXuerb6U1C/Bt3MsFAAxBoQOAISh0ADAEhQ4AhuCgKKCvD3YCdsceOgAYgkIHAENQ6ABgCAodAAxBoQOAISh0ADAEhQ4AhqDQAcAQFDoAGIJCBwBDUOgAYIiY93Lp7+9XbW2tBgYGFAqFtGDBAq1evVqNjY06fvy4xo0bJ0nasGGDbrnllnTnBQBEEbPQ8/LyVFtbq/z8fA0MDGjbtm2aO3euJGnt2rVasGBB2kMCAGKLOeTicDiUn58vSQqFQgqFQnI4HGkPBgBITFxj6OFwWFu3btWPf/xjzZkzR7NmzZIk/fnPf9aWLVu0Z88eXblyJa1BAQDX57Asy4p35kuXLmn37t1at26dbrrpJk2aNEkDAwP63e9+pylTpmjVqlVDXuPz+eTz+SRJXq9X/f39qUufJrm5uRoYGBjtGAmxY2Ype3J3PrIw5e9ZvO9Iyt8zWdmynhNB5qvGjBkT3/ITedPx48ervLxcH374oZYv//oLAfLy8vTAAw/o7bffHvY1Ho9HHo8n8tzv9yeyyFHhdrttkXMwO2aW7Js7Htn0uey4nsl8VUlJSVzzxRxy6enp0aVLlyR9fcbLxx9/rNLSUgWDQUmSZVlqa2vT1KlTRxAXADBSMffQg8GgGhsbFQ6HZVmW7r77bt1111361a9+pZ6eHknS9OnTtX79+rSHBQBEF7PQp0+frpdeemnI9Nra2rQEAgAkhytFAcAQFDoAGIJCBwBDUOgAYAgKHQAMQaEDgCEodAAwBIUOAIag0AHAEBQ6ABiCQgcAQ1DoAGAICh0ADEGhA4AhKHQAMASFDgCGoNABwBAUOgAYIuZX0PX396u2tlYDAwMKhUJasGCBVq9era6uLjU0NKi3t1czZszQxo0blZsb8+0AAGkSs4Hz8vJUW1ur/Px8DQwMaNu2bZo7d67eeecdLVu2TPfcc49+//vf69ChQ1q6dGkmMgMAhhFzyMXhcCg/P1+SFAqFFAqF5HA41NHRoQULFkiSFi1apLa2tvQmBQBcV1xjJOFwWD/72c/05Zdf6vvf/76Ki4s1btw4OZ1OSVJhYaECgUBagwIAri+uQs/JydGuXbt06dIl7d69W2fOnIl7AT6fTz6fT5Lk9XrldruTS5pBubm5tsg5mB0zS9mTuzMN75kNn+sb2bKeE0HmJJafyMzjx49XeXm5Pv30U3311VcKhUJyOp0KBAIqLCwc9jUej0cejyfy3O/3jyxxBrjdblvkHMyOmSX75o5HNn0uO65nMl9VUlIS13wxx9B7enp06dIlSV+f8fLxxx+rtLRUs2fP1tGjRyVJhw8fVkVFxQjiAgBGKuYeejAYVGNjo8LhsCzL0t1336277rpLN998sxoaGvSXv/xFM2bM0OLFizORFwAQRcxCnz59ul566aUh04uLi/Xiiy+mJRQAIHFcKQoAhqDQAcAQFDoAGIJCBwBDUOgAYAhujwikSejp5XHN53z1rTQnwY2CPXQAMASFDgCGoNABwBAUOgAYgkIHAENQ6ABgCAodAAxBoQOAISh0ADAEhQ4AhuDSfxgt3svvARPELHS/36/GxkZduHBBDodDHo9HDz30kJqbm3Xw4EFNnDhRkrRmzRrNmzcv7YEBAMOLWehOp1Nr165VWVmZ+vr6VFNTozvuuEOStGzZMi1fzh4QAGSDmIXucrnkcrkkSWPHjlVpaakCgUDagwEAEpPQQdGuri598cUXmjlzpiTpwIED2rJli5qamtTb25uWgACA+Dgsy7LimfHy5cuqra3VypUrNX/+fF24cCEyfr53714Fg0FVV1cPeZ3P55PP55Mkeb1e9ff3pzB+euTm5mpgYGC0YyTEjpml9OfufGRh2t47VYr3HUn7Muy4fZD5qjFjxsS3/HhmGhgYUF1dne677z7Nnz9fkjRp0qTIvy9ZskQ7d+4c9rUej0cejyfy3O/3xxVsNLndblvkHMyOmSX75k6lTHx+O65nMl9VUlIS13wxh1wsy9Irr7yi0tJSPfzww5HpwWAw8vjYsWOaOnVqEjEBAKkScw/9xIkTam1t1bRp07R161ZJX5+i+O677+rUqVNyOBwqKirS+vXr0x4WABBdzEK//fbb1dzcPGQ655wDQHbh0n8AMASFDgCGoNABwBAUOgAYgkIHAENQ6ABgCAodAAxBoQOAISh0ADAEhQ4AhqDQAcAQFDoAGIJCBwBDUOgAYAgKHQAMQaEDgCEodAAwBIUOAIaI+RV0fr9fjY2NunDhghwOhzwejx566CH19vaqvr5e586dU1FRkTZt2qQJEyZkIjMAYBgxC93pdGrt2rUqKytTX1+fampqdMcdd+jw4cOaM2eOVqxYof3792v//v16/PHHM5EZADCMmEMuLpdLZWVlkqSxY8eqtLRUgUBAbW1tqqqqkiRVVVWpra0tvUkBANeV0Bh6V1eXvvjiC82cOVPd3d1yuVySvi79np6etAQEAMQn5pDLNy5fvqy6ujo9+eSTGjduXNwL8Pl88vl8kiSv1yu32514ygzLzc21Rc7B7JhZSn/uzrS9c+pk4udmx+2DzEksP56ZBgYGVFdXp/vuu0/z58+XJBUUFCgYDMrlcikYDGrixInDvtbj8cjj8USe+/3+FMROL7fbbYucg9kxs2Tf3KmUic9vx/VM5qtKSkrimi/mkItlWXrllVdUWlqqhx9+ODK9oqJCLS0tkqSWlhZVVlYmGRUAkAox99BPnDih1tZWTZs2TVu3bpUkrVmzRitWrFB9fb0OHTokt9utzZs3pz0sACC6mIV+++23q7m5edh/27ZtW8oDAQCSE/dBUQDpEXp6eVzzOV99K81JYHdc+g8AhqDQAcAQFDoAGIJCBwBDcFAUthTvgUTgRsIeOgAYgkIHAENQ6ABgCAodAAxBoQOAISh0ADAEhQ4AhqDQAcAQFDoAGIJCBwBDUOgAYIiY93JpampSe3u7CgoKVFdXJ0lqbm7WwYMHI18MvWbNGs2bNy+9SQEA1xWz0BctWqQf/OAHamxsvGb6smXLtHw5N0gCgGwRc8ilvLxcEyZMyEQWAMAIJH373AMHDqi1tVVlZWV64oknKH0AGGVJFfrSpUu1atUqSdLevXv1xhtvqLq6eth5fT6ffD6fJMnr9crtdicZNXNyc3NtkXMwO2aWks/dmYYs2W4kP187bh9kTmL5ybxo0qRJkcdLlizRzp07o87r8Xjk8Xgiz/1+fzKLzCi3222LnIPZMbNk39yjYSTryY7rmcxXlZSUxDVfUqctBoPByONjx45p6tSpybwNACCFYu6hNzQ06Pjx47p48aKeeeYZrV69Wh0dHTp16pQcDoeKioq0fv36TGQFAFxHzEJ/7rnnhkxbvHhxWsIAAJLHlaIAYAgKHQAMQaEDgCEodAAwBIUOAIag0AHAEBQ6ABiCQgcAQ1DoAGAICh0ADEGhA4Ahkv6CCwCZFXo6vq98dL76VpqTIFuxhw4AhqDQAcAQFDoAGIJCBwBDUOgAYAgKHQAMEfO0xaamJrW3t6ugoEB1dXWSpN7eXtXX1+vcuXMqKirSpk2bNGHChLSHBQBEF3MPfdGiRXr++eevmbZ//37NmTNHL7/8subMmaP9+/enLSAAID4xC728vHzI3ndbW5uqqqokSVVVVWpra0tPOgBA3JIaQ+/u7pbL5ZIkuVwu9fT0pDQUACBxab/03+fzyefzSZK8Xq/cbne6Fzliubm5tsg5mB0zS0Nzdz6ycBTTmGG47cCO2weZk1h+Mi8qKChQMBiUy+VSMBjUxIkTo87r8Xjk8Xgiz/1+fzKLzCi3222LnIPZMbNk39zZbLj1acf1TOarSkpK4povqSGXiooKtbS0SJJaWlpUWVmZzNsAAFIo5h56Q0ODjh8/rosXL+qZZ57R6tWrtWLFCtXX1+vQoUNyu93avHlzJrICAK4jZqE/99xzw07ftm1bysMAAJLHlaIAYAgKHQAMQaEDgCEodAAwBIUOAIag0AHAEBQ6ABiCQgcAQ1DoAGAICh0ADEGhA4AhKHQAMASFDgCGoNABwBAUOgAYgkIHAEOk/UuiAUkKPb182OmdGc5xIxhuXQ+3np2vvpX+MMgo9tABwBAj2kPfsGGD8vPzlZOTI6fTKa/Xm6pcAIAEjXjIpba2VhMnTkxFFgDACDDkAgCGGPEe+o4dOyRJDz74oDwez5B/9/l88vl8kiSv1yu32z3SRaZdbm6uLXIOlu2ZOfiZfeLdXjofWRj3exbvO5JsnCGyfZsezmhnHlGhb9++XYWFheru7tYLL7ygkpISlZeXXzOPx+O5puj9fv9IFpkRbrfbFjkHs2NmjK50bC+pfE87btPpylxSUhLXfCMaciksLJQkFRQUqLKyUidPnhzJ2wEARiDpQr98+bL6+voijz/66CNNmzYtZcEAAIlJesilu7tbu3fvliSFQiHde++9mjt3bsqCAQASk3ShFxcXa9euXanMAgAYAU5bBABDUOgAYAgKHQAMQaEDgCEodAAwBPdDxxDR7l0+HO6pbV+J/JxhD+yhA4AhKHQAMASFDgCGoNABwBAcFAWQMvEeaOVgenqwhw4AhqDQAcAQFDoAGIJCBwBD2Oag6GgebOFAT3RcbYhkxLPddCr7f6e+/Tmu92Xomfgs7KEDgCFGtIf+4Ycf6vXXX1c4HNaSJUu0YsWKVOUCACQo6T30cDis1157Tc8//7zq6+v17rvv6r///W8qswEAEpB0oZ88eVJTpkxRcXGxcnNztXDhQrW1taUyGwAgAUkXeiAQ0OTJkyPPJ0+erEAgkJJQAIDEJT2GblnWkGkOh2PINJ/PJ5/PJ0nyer0qKSlJboH/eC+51yXpmpwZXnaykl6332aTzwuMuiz7XUl6D33y5Mk6f/585Pn58+flcrmGzOfxeOT1euX1epNdVMbV1NSMdoSE2TGzZM/cZM4MMicu6UK/9dZbdfbsWXV1dWlgYEBHjhxRRUVFKrMBABKQ9JCL0+nUU089pR07digcDuuBBx7Q1KlTU5kNAJCAEZ2HPm/ePM2bNy9VWbKGx+MZ7QgJs2NmyZ65yZwZZE6cwxru6CYAwHa49B8ADGGbm3Oly7///W/99a9/1ZkzZ/TrX/9at956qySpq6tLmzZtipwKOGvWLK1fv16S9Pnnn6uxsVH9/f268847tW7dumFP2cx0Zknat2+fDh06pJycHK1bt05z586VlF23aWhubtbBgwc1ceJESdKaNWsiQ3fR8meDbFqH17Nhwwbl5+crJydHTqdTXq9Xvb29qq+v17lz51RUVKRNmzZpwoQJo5qzqalJ7e3tKigoUF1dnSRFzWlZll5//XV98MEH+s53vqPq6mqVlZVlReas2p6tG9zp06etM2fOWLW1tdbJkycj0zs7O63NmzcP+5qamhrrxIkTVjgctnbs2GG1t7dnKq5lWdEznz592tqyZYvV399vdXZ2Ws8++6wVCoWsUChkPfvss9aXX35pXblyxdqyZYt1+vTpjGYebO/evdbf//73IdOj5c8G2bYOr6e6utrq7u6+Ztqbb75p7du3z7Isy9q3b5/15ptvjka0a3R0dFifffbZNb9n0XK+//771o4dO6xwOGydOHHC+vnPf541mbNpe77hh1xuvvnmhC7ICQaD6uvr02233SaHw6H7778/47c8iJa5ra1NCxcuVF5enr773e9qypQpOnnypG1u0xAtfzawyzqMpq2tTVVVVZKkqqqqrMheXl4+5K+EaDnfe+893X///XI4HLrtttt06dIlBYPBrMgczWhszzf8kMv1dHV16ac//anGjh2rRx99VN/73vey+pYHgUBAs2bNijwvLCyMZPt25k8//TTj+QY7cOCAWltbVVZWpieeeEITJky4bv7RNtzPfbTX4fXs2LFDkvTggw/K4/Gou7s7cuGfy+VST0/PaMaLKlrOQCAgt9sdme+b37vhLmYcDdmyPd8Qhb59+3ZduHBhyPRHH31UlZWVw77G5XKpqalJN910kz7//HPt2rVLdXV1w97yIB2SyRwt23DT0z3mf738S5cu1apVqyRJe/fu1RtvvKHq6uqMrdtkjMY6TNb27dtVWFio7u5uvfDCC6m7JcQoyub1n03b8w1R6L/85S8Tfk1eXp7y8vIkSWVlZSouLtbZs2eHveVBYWFhyrJ+I5nM384WCAQi2eK5TUMqxZt/yZIl2rlzp6Tr5x9t8d7qIht8s84KCgpUWVmpkydPqqCgQMFgUC6XS8FgMHIAL9tEyzl58mT5/f7IfNm0/idNmhR5PNrb8w0/hh5NT0+PwuGwJKmzs1Nnz55VcXGxXC6Xxo4dq08++USWZam1tTVrbnlQUVGhI0eO6MqVK+rq6tLZs2c1c+bMrLtNw+Cxz2PHjkWuMI6WPxtk2zqM5vLly+rr64s8/uijjzRt2jRVVFSopaVFktTS0hL1r7zRFi1nRUWFWltbZVmWPvnkE40bNy5rCj2btucb/sKiY8eO6Q9/+IN6eno0fvx43XLLLfrFL36ho0ePqrm5WU6nUzk5OfrhD38Y+QX+7LPP1NTUpP7+fs2dO1dPPfVURv/8i5ZZkv72t7/pX//6l3JycvTkk0/qzjvvlCS1t7frj3/8Y+Q2DStXrsxY3m/77W9/q1OnTsnhcKioqEjr16+P/HJGy58NsmkdRtPZ2andu3dLkkKhkO69916tXLlSFy9eVH19vfx+v9xutzZv3jzqpy02NDTo+PHjunjxogoKCrR69WpVVlYOm9OyLL322mv6z3/+ozFjxqi6uvqa03VHM3NHR0fWbM83fKEDgCkYcgEAQ1DoAGAICh0ADEGhA4AhKHQAMASFDgCGoNABwBAUOgAY4v8AB2XTYz1qaYsAAAAASUVORK5CYII=\n",
      "text/plain": [
       "<Figure size 432x288 with 1 Axes>"
      ]
     },
     "metadata": {},
     "output_type": "display_data"
    }
   ],
   "source": [
    "# 对变化率进行初步的统计分析，看看收盘价变化率的概率分布情况\n",
    "sh['Change'].hist(bins=30)\n",
    "plt.show()\n",
    "# hist函数用于查看一个序列的直方图，bins参数表示将数据分为多少段"
   ]
  },
  {
   "cell_type": "markdown",
   "metadata": {},
   "source": [
    "可以看出整体分布是沿0左右对称分布的"
=======
   "execution_count": 26,
   "metadata": {
    "collapsed": false
   },
   "outputs": [
    {
     "data": {
      "text/html": [
       "\n",
       "<div id=\"chart\" style=\"width:800px; height:600px;\"></div> \n",
       "<script> \n",
       "require.config({ paths:{ echarts: '//cdn.bootcss.com/echarts/3.2.3/echarts.min', } });\n",
       "require(['echarts'],function(ec){\n",
       "var myChart = ec.init(document.getElementById('chart'));\n",
       "var data0 = splitData([['2016-01-04',6.084,5.681,5.671,6.104],['2016-01-05',5.592,5.631,5.425,5.779],['2016-01-06',5.641,5.671,5.622,5.769],['2016-01-07',5.641,5.218,5.179,5.641],['2016-01-08',5.336,5.375,5.051,5.494],['2016-01-11',5.307,4.952,4.923,5.336],['2016-01-12',5.011,4.952,4.883,5.041],['2016-01-13',5.001,4.913,4.893,5.169],['2016-01-14',4.726,4.932,4.676,4.982],['2016-01-15',4.903,4.647,4.598,4.903],['2016-01-18',4.548,4.647,4.509,4.745],['2016-01-19',4.647,4.795,4.598,4.834],['2016-01-20',4.735,4.686,4.637,4.795],['2016-01-21',4.617,4.539,4.529,4.785],['2016-01-22',4.598,4.588,4.42,4.608],['2016-01-25',4.588,4.548,4.509,4.617],['2016-01-26',4.519,4.096,4.096,4.519],['2016-01-27',4.115,4.017,3.8,4.145],['2016-01-28',3.928,3.82,3.8,4.017],['2016-01-29',3.849,3.987,3.84,4.027],['2016-02-01',3.968,3.899,3.83,3.977],['2016-02-02',3.889,3.997,3.869,4.036],['2016-02-03',3.948,4.007,3.899,4.066],['2016-02-04',4.036,4.056,4.007,4.105],['2016-02-05',4.056,3.977,3.968,4.076],['2016-02-15',3.879,3.948,3.849,3.977],['2016-02-16',3.987,4.105,3.968,4.125],['2016-02-17',4.096,4.174,4.076,4.214],['2016-02-18',4.214,4.204,4.155,4.273],['2016-02-19',4.174,4.194,4.145,4.273],['2016-02-22',4.233,4.371,4.214,4.401],['2016-02-23',4.361,4.273,4.204,4.361],['2016-02-24',4.233,4.381,4.184,4.401],['2016-02-25',4.322,4.007,3.958,4.332],['2016-02-26',4.056,4.046,3.997,4.096],['2016-02-29',4.036,3.958,3.83,4.036],['2016-03-01',3.958,4.017,3.918,4.066],['2016-03-02',4.056,4.184,4.007,4.214],['2016-03-03',4.174,4.194,4.145,4.214],['2016-03-04',4.174,4.302,4.135,4.332],['2016-03-07',4.283,4.292,4.233,4.352],['2016-03-08',4.273,4.283,4.096,4.292],['2016-03-09',4.174,4.253,4.115,4.263],['2016-03-10',4.184,4.155,4.135,4.224],['2016-03-11',4.115,4.174,4.096,4.184],['2016-03-14',4.214,4.233,4.174,4.302],['2016-03-15',4.224,4.233,4.155,4.263],['2016-03-16',4.224,4.292,4.214,4.322],['2016-03-17',4.292,4.342,4.263,4.401],['2016-03-18',4.342,4.322,4.273,4.411],['2016-03-21',4.361,4.45,4.332,4.529],['2016-03-22',4.42,4.411,4.352,4.45],['2016-03-23',4.391,4.44,4.381,4.45],['2016-03-24',4.42,4.332,4.322,4.42],['2016-03-25',4.312,4.283,4.214,4.342],['2016-03-28',4.283,4.243,4.214,4.322],['2016-03-29',4.253,4.164,4.125,4.253],['2016-03-30',4.184,4.283,4.174,4.302],['2016-03-31',4.322,4.322,4.253,4.411],['2016-04-01',4.322,4.47,4.312,4.499],['2016-04-05',4.43,4.47,4.361,4.499],['2016-04-06',4.43,4.42,4.381,4.46],['2016-04-07',4.43,4.342,4.332,4.44],['2016-04-08',4.302,4.273,4.233,4.322],['2016-04-11',4.292,4.342,4.292,4.371],['2016-04-12',4.332,4.312,4.283,4.342],['2016-04-13',4.332,4.371,4.322,4.43],['2016-04-14',4.401,4.401,4.361,4.411],['2016-04-15',4.401,4.352,4.332,4.411],['2016-04-18',4.322,4.283,4.263,4.332],['2016-04-19',4.302,4.263,4.243,4.312],['2016-04-20',4.273,4.125,3.958,4.283],['2016-04-21',4.086,4.086,4.056,4.115],['2016-04-22',4.046,4.066,3.987,4.086],['2016-04-25',4.046,4.017,3.968,4.056],['2016-04-26',4.017,4.027,3.977,4.036],['2016-04-27',4.036,4.027,4.007,4.066],['2016-04-28',4.027,4.007,3.968,4.036],['2016-04-29',3.997,3.977,3.968,4.007],['2016-05-03',3.987,4.056,3.968,4.066],['2016-05-04',4.036,4.056,4.027,4.076],['2016-05-05',4.046,4.056,4.036,4.076],['2016-05-06',4.056,3.958,3.958,4.105],['2016-05-09',3.938,3.859,3.84,3.948],['2016-05-10',3.84,3.869,3.84,3.889],['2016-05-11',3.879,3.879,3.84,3.928],['2016-05-12',3.859,3.869,3.81,3.879],['2016-05-13',3.869,3.849,3.84,3.889],['2016-05-16',3.849,3.879,3.82,3.889],['2016-05-17',3.869,3.859,3.84,3.879],['2016-05-18',3.849,3.82,3.79,3.859],['2016-05-19',3.82,3.81,3.8,3.849],['2016-05-20',3.781,3.81,3.761,3.82],['2016-05-23',3.81,3.84,3.81,3.849],['2016-05-24',3.84,3.81,3.8,3.84],['2016-05-25',3.83,3.81,3.8,3.849],['2016-05-26',3.81,3.82,3.781,3.84],['2016-05-27',3.82,3.81,3.8,3.84],['2016-05-30',3.81,3.83,3.781,3.83],['2016-05-31',3.8,3.938,3.79,3.958],['2016-06-01',3.928,3.909,3.899,3.938],['2016-06-02',3.909,3.899,3.869,3.918],['2016-06-03',3.899,3.909,3.879,3.928],['2016-06-06',3.909,3.899,3.869,3.918],['2016-06-07',3.899,3.879,3.869,3.899],['2016-06-08',3.889,3.859,3.84,3.889],['2016-06-13',3.83,3.781,3.771,3.84],['2016-06-14',3.761,3.8,3.761,3.8],['2016-06-15',3.771,3.82,3.761,3.84],['2016-06-16',3.81,3.781,3.761,3.83],['2016-06-17',3.781,3.781,3.761,3.8],['2016-06-20',3.781,3.781,3.761,3.79],['2016-06-21',3.79,3.761,3.731,3.81],['2016-06-22',3.751,3.771,3.731,3.781],['2016-06-23',3.771,3.781,3.751,3.889],['2016-06-24',3.79,3.761,3.692,3.81],['2016-06-27',3.731,3.79,3.721,3.8],['2016-06-28',3.79,3.79,3.741,3.79],['2016-06-29',3.79,3.8,3.771,3.849],['2016-06-30',3.82,3.81,3.79,3.82],['2016-07-01',3.82,3.82,3.81,3.84],['2016-07-04',3.81,3.87,3.8,3.88],['2016-07-05',3.87,3.91,3.86,3.95],['2016-07-06',3.89,3.91,3.86,3.92],['2016-07-07',3.91,3.94,3.88,3.97],['2016-07-08',3.94,3.91,3.89,3.94],['2016-07-11',3.91,3.9,3.89,3.95],['2016-07-12',3.9,4.05,3.9,4.09],['2016-07-13',4.06,4.34,4.05,4.46],['2016-07-14',4.28,4.26,4.21,4.3],['2016-07-15',4.25,4.25,4.21,4.28],['2016-07-18',4.28,4.29,4.22,4.38],['2016-07-19',4.27,4.24,4.18,4.29],['2016-07-20',4.23,4.21,4.2,4.25],['2016-07-21',4.21,4.21,4.18,4.24],['2016-07-22',4.21,4.2,4.16,4.22],['2016-07-25',4.19,4.16,4.15,4.2],['2016-07-26',4.17,4.29,4.16,4.33],['2016-07-27',4.29,4.33,4.15,4.36],['2016-07-28',4.29,4.4,4.26,4.49],['2016-07-29',4.36,4.26,4.25,4.45],['2016-08-01',4.22,4.19,4.14,4.23],['2016-08-02',4.19,4.24,4.18,4.24],['2016-08-03',4.23,4.26,4.22,4.31],['2016-08-04',4.26,4.28,4.2,4.29],['2016-08-05',4.27,4.24,4.21,4.28],['2016-08-08',4.22,4.25,4.19,4.25],['2016-08-09',4.24,4.25,4.21,4.27],['2016-08-10',4.25,4.27,4.25,4.34],['2016-08-11',4.27,4.22,4.21,4.3],['2016-08-12',4.22,4.29,4.21,4.29],['2016-08-15',4.28,4.42,4.27,4.47],['2016-08-16',4.44,4.48,4.43,4.63],['2016-08-17',4.49,4.44,4.4,4.55],['2016-08-18',4.44,4.57,4.41,4.63],['2016-08-19',4.55,4.56,4.47,4.59],['2016-08-22',4.56,4.46,4.44,4.58],['2016-08-23',4.45,4.42,4.38,4.48],['2016-08-24',4.41,4.38,4.37,4.44],['2016-08-25',4.37,4.33,4.29,4.37],['2016-08-26',4.33,4.34,4.3,4.37],['2016-08-29',4.33,4.26,4.21,4.34],['2016-08-30',4.26,4.28,4.25,4.28],['2016-08-31',4.27,4.28,4.25,4.29],['2016-09-01',4.29,4.23,4.22,4.29],['2016-09-02',4.23,4.23,4.21,4.24],['2016-09-05',4.24,4.24,4.22,4.27],['2016-09-06',4.24,4.28,4.2,4.29],['2016-09-07',4.28,4.27,4.26,4.32],['2016-09-08',4.28,4.27,4.25,4.29],['2016-09-09',4.27,4.24,4.23,4.28],['2016-09-12',4.2,4.16,4.09,4.2],['2016-09-13',4.16,4.13,4.12,4.17],['2016-09-14',4.13,4.09,4.08,4.13],['2016-09-19',4.11,4.11,4.09,4.13],['2016-09-20',4.11,4.08,4.06,4.11],['2016-09-21',4.08,4.09,4.07,4.11],['2016-09-22',4.1,4.11,4.09,4.13],['2016-09-23',4.12,4.19,4.12,4.22],['2016-09-26',4.18,4.11,4.09,4.18],['2016-09-27',4.08,4.13,4.08,4.14],['2016-09-28',4.13,4.18,4.11,4.2],['2016-09-29',4.17,4.17,4.16,4.22],['2016-09-30',4.16,4.15,4.14,4.22],['2016-10-10',4.31,4.36,4.26,4.38],['2016-10-11',4.35,4.8,4.32,4.8],['2016-10-12',4.9,4.73,4.68,4.93],['2016-10-13',4.71,4.72,4.66,4.8],['2016-10-14',4.71,5.17,4.66,5.19],['2016-10-17',5.03,5.06,5.0,5.25],['2016-10-18',5.02,5.11,4.98,5.24],['2016-10-19',5.12,5.3,5.1,5.59],['2016-10-20',5.26,5.3,5.22,5.41],['2016-10-21',5.25,5.36,5.22,5.45],['2016-10-24',5.36,5.33,5.26,5.41],['2016-10-25',5.33,5.27,5.18,5.36],['2016-10-26',5.23,5.34,5.19,5.36],['2016-10-27',5.3,5.18,5.15,5.32],['2016-10-28',5.17,5.13,5.12,5.24],['2016-10-31',5.12,5.13,5.1,5.16],['2016-11-01',5.13,5.19,5.11,5.26],['2016-11-02',5.17,5.09,5.07,5.18],['2016-11-03',5.18,5.27,5.05,5.31],['2016-11-04',5.25,5.4,5.23,5.65],['2016-11-07',5.35,5.39,5.27,5.44],['2016-11-08',5.4,5.31,5.28,5.42],['2016-11-09',5.3,5.18,5.1,5.33],['2016-11-10',5.24,5.22,5.17,5.29],['2016-11-11',5.19,5.3,5.14,5.37],['2016-11-14',5.49,5.55,5.32,5.67],['2016-11-15',5.5,5.42,5.38,5.53],['2016-11-16',5.43,5.71,5.32,5.8],['2016-11-17',5.64,5.97,5.61,6.08],['2016-11-18',5.91,5.93,5.85,6.03],['2016-11-21',5.95,5.93,5.86,6.01],['2016-11-22',5.93,5.98,5.9,6.19],['2016-11-23',5.93,5.8,5.77,5.95],['2016-11-24',5.8,5.82,5.75,5.85],['2016-11-25',5.8,5.93,5.77,5.93],['2016-11-28',5.96,6.05,5.92,6.15],['2016-11-29',6.02,6.15,5.97,6.29],['2016-11-30',6.07,6.66,6.05,6.77],['2016-12-01',6.76,7.33,6.6,7.33],['2016-12-02',7.3,6.84,6.79,7.37]]);\n",
       "function splitData(rawData) {\n",
       "    var categoryData = [];\n",
       "    var values = []\n",
       "    for (var i = 0; i < rawData.length; i++) {\n",
       "        categoryData.push(rawData[i].splice(0, 1)[0]);\n",
       "        values.push(rawData[i])\n",
       "    }\n",
       "    return {\n",
       "        categoryData: categoryData,\n",
       "        values: values\n",
       "    };\n",
       "}\n",
       "\n",
       "function calculateMA(dayCount) {\n",
       "    var result = [];\n",
       "    for (var i = 0, len = data0.values.length; i < len; i++) {\n",
       "        if (i < dayCount) {\n",
       "            result.push('-');\n",
       "            continue;\n",
       "        }\n",
       "        var sum = 0;\n",
       "        for (var j = 0; j < dayCount; j++) {\n",
       "            sum += data0.values[i - j][1];\n",
       "        }\n",
       "        result.push((sum / dayCount).toFixed(2));\n",
       "    }\n",
       "    return result;\n",
       "}\n",
       "\n",
       "option = {\n",
       "    title: {\n",
       "text: '涓浗鑱旈€�',\n",
       "        left: 0\n",
       "    },\n",
       "    tooltip: {\n",
       "        trigger: 'axis',\n",
       "        axisPointer: {\n",
       "            type: 'line'\n",
       "        }\n",
       "    },\n",
       "    legend: {\n",
       "        data: ['鏃', 'MA5', 'MA10', 'MA20', 'MA30']\n",
       "    },\n",
       "    grid: {\n",
       "        left: '10%',\n",
       "        right: '10%',\n",
       "        bottom: '15%'\n",
       "    },\n",
       "    xAxis: {\n",
       "        type: 'category',\n",
       "        data: data0.categoryData,\n",
       "        scale: true,\n",
       "        boundaryGap : false,\n",
       "        axisLine: {onZero: false},\n",
       "        splitLine: {show: false},\n",
       "        splitNumber: 20,\n",
       "        min: 'dataMin',\n",
       "        max: 'dataMax'\n",
       "    },\n",
       "    yAxis: {\n",
       "        scale: true,\n",
       "        splitArea: {\n",
       "            show: true\n",
       "        }\n",
       "    },\n",
       "    dataZoom: [\n",
       "        {\n",
       "            type: 'inside',\n",
       "            start: 50,\n",
       "            end: 100\n",
       "        },\n",
       "        {\n",
       "            show: true,\n",
       "            type: 'slider',\n",
       "            y: '90%',\n",
       "            start: 50,\n",
       "            end: 100\n",
       "        }\n",
       "    ],\n",
       "    series: [\n",
       "        {\n",
       "            name: '鏃',\n",
       "            type: 'candlestick',\n",
       "            data: data0.values,\n",
       "            markPoint: {\n",
       "                label: {\n",
       "                    normal: {\n",
       "                        formatter: function (param) {\n",
       "                            return param != null ? Math.round(param.value) : '';\n",
       "                        }\n",
       "                    }\n",
       "                },\n",
       "                data: [\n",
       "                    {\n",
       "                        name: '鏍囩偣',\n",
       "                        coord: ['2013/5/31', 2300],\n",
       "                        value: 2300,\n",
       "                        itemStyle: {\n",
       "                            normal: {color: 'rgb(41,60,85)'}\n",
       "                        }\n",
       "                    },\n",
       "                    {\n",
       "                        name: 'highest value',\n",
       "                        type: 'max',\n",
       "                        valueDim: 'highest'\n",
       "                    },\n",
       "                    {\n",
       "                        name: 'lowest value',\n",
       "                        type: 'min',\n",
       "                        valueDim: 'lowest'\n",
       "                    },\n",
       "                    {\n",
       "                        name: 'average value on close',\n",
       "                        type: 'average',\n",
       "                        valueDim: 'close'\n",
       "                    }\n",
       "                ],\n",
       "                tooltip: {\n",
       "                    formatter: function (param) {\n",
       "                        return param.name + '<br>' + (param.data.coord || '');\n",
       "                    }\n",
       "                }\n",
       "            },\n",
       "            markLine: {\n",
       "                symbol: ['none', 'none'],\n",
       "                data: [\n",
       "                    [\n",
       "                        {\n",
       "                            name: 'from lowest to highest',\n",
       "                            type: 'min',\n",
       "                            valueDim: 'lowest',\n",
       "                            symbol: 'circle',\n",
       "                            symbolSize: 10,\n",
       "                            label: {\n",
       "                                normal: {show: false},\n",
       "                                emphasis: {show: false}\n",
       "                            }\n",
       "                        },\n",
       "                        {\n",
       "                            type: 'max',\n",
       "                            valueDim: 'highest',\n",
       "                            symbol: 'circle',\n",
       "                            symbolSize: 10,\n",
       "                            label: {\n",
       "                                normal: {show: false},\n",
       "                                emphasis: {show: false}\n",
       "                            }\n",
       "                        }\n",
       "                    ],\n",
       "                    {\n",
       "                        name: 'min line on close',\n",
       "                        type: 'min',\n",
       "                        valueDim: 'close'\n",
       "                    },\n",
       "                    {\n",
       "                        name: 'max line on close',\n",
       "                        type: 'max',\n",
       "                        valueDim: 'close'\n",
       "                    }\n",
       "                ]\n",
       "            }\n",
       "        },\n",
       "        {\n",
       "            name: 'MA5',\n",
       "            type: 'line',\n",
       "            data: calculateMA(5),\n",
       "            smooth: true,\n",
       "            lineStyle: {\n",
       "                normal: {opacity: 0.5}\n",
       "            }\n",
       "        },\n",
       "        {\n",
       "            name: 'MA10',\n",
       "            type: 'line',\n",
       "            data: calculateMA(10),\n",
       "            smooth: true,\n",
       "            lineStyle: {\n",
       "                normal: {opacity: 0.5}\n",
       "            }\n",
       "        },\n",
       "        {\n",
       "            name: 'MA20',\n",
       "            type: 'line',\n",
       "            data: calculateMA(20),\n",
       "            smooth: true,\n",
       "            lineStyle: {\n",
       "                normal: {opacity: 0.5}\n",
       "            }\n",
       "        },\n",
       "        {\n",
       "            name: 'MA30',\n",
       "            type: 'line',\n",
       "            data: calculateMA(30),\n",
       "            smooth: true,\n",
       "            lineStyle: {\n",
       "                normal: {opacity: 0.5}\n",
       "            }\n",
       "        },\n",
       "\n",
       "    ]\n",
       "};\n",
       "myChart.setOption(option);\n",
       "    });\n",
       "</script>\n"
      ],
      "text/plain": [
       "<IPython.core.display.HTML object>"
      ]
     },
     "execution_count": 26,
     "metadata": {},
     "output_type": "execute_result"
    }
   ],
   "source": [
    "HTML(datahead + datavar + funcstr + namestr + functail)"
>>>>>>> a8d8129a50929f37c1cb18ae1670bd55a43f38ae
   ]
  }
 ],
 "metadata": {
  "anaconda-cloud": {},
  "kernelspec": {
   "display_name": "Python [conda root]",
   "language": "python",
   "name": "conda-root-py"
  },
  "language_info": {
   "codemirror_mode": {
    "name": "ipython",
    "version": 3
   },
   "file_extension": ".py",
   "mimetype": "text/x-python",
   "name": "python",
   "nbconvert_exporter": "python",
   "pygments_lexer": "ipython3",
   "version": "3.5.2"
  }
 },
 "nbformat": 4,
 "nbformat_minor": 1
}
