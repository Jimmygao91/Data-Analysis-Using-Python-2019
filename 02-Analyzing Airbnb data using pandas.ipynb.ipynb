{
 "cells": [
  {
   "cell_type": "markdown",
   "metadata": {},
   "source": [
    "#1、首先导入数据，数据为2019年纽约Airbnb公开数据"
   ]
  },
  {
   "cell_type": "code",
   "execution_count": null,
   "metadata": {},
   "outputs": [],
   "source": [
    "import pandas as pd\n",
    "import numpy as np\n",
    "\n",
    "filename=\"https://raw.githubusercontent.com/ShaoZC/Data-Analysis-Using-Python/master/new-york-city-airbnb-open-data.csv\"\n",
    "AB_NYC_2019=pd.read_csv(filename)\n"
   ]
  },
  {
   "cell_type": "markdown",
   "metadata": {},
   "source": [
    "#2、其次导入地图处理代码"
   ]
  },
  {
   "cell_type": "code",
   "execution_count": null,
   "metadata": {},
   "outputs": [],
   "source": [
    "from mpl_toolkits.basemap import Basemap\n",
    "import matplotlib.pyplot as plt"
   ]
  },
  {
   "cell_type": "markdown",
   "metadata": {},
   "source": [
    "#3、开始绘制地图"
   ]
  },
  {
   "cell_type": "code",
   "execution_count": null,
   "metadata": {},
   "outputs": [],
   "source": [
    "import pandas as pd\n",
    "import numpy as np\n",
    "filename=\"https://raw.githubusercontent.com/ShaoZC/Data-Analysis-Using-Python/master/2014_us_cities.csv\"\n",
    "AB_NYC_2019=pd.read_csv(filename)\n",
    "# print(AB_NYC_2019.head(10))\n",
    "lat=np.array(AB_NYC_2019['lat'])\n",
    "lon=np.array(AB_NYC_2019['lon'])\n",
    "rev=np.array(AB_NYC_2019['pop'],dtype=float)\n",
    "\n",
    "from mpl_toolkits.basemap import Basemap\n",
    "import matplotlib.pyplot as plt\n",
    "\n",
    "map = Basemap(projection='stere',lat_0=90,lon_0=-105,\\\n",
    "            llcrnrlat=23 ,urcrnrlat=45,\\\n",
    "            llcrnrlon=-126.1,urcrnrlon=-65,\\\n",
    "            rsphere=6371200.,resolution='l',area_thresh=10000)\n",
    "map.drawmapboundary()   \n",
    "map.drawstates()        \n",
    "map.drawcoastlines()    \n",
    "map.drawcountries()     \n",
    "# map.drawcounties()      \n",
    "size=(rev/np.max(rev))*1000\n",
    "x,y = map(lon,lat)\n",
    "map.scatter(x,y,s=size)\n",
    "plt.title('Population distribution in America')\n",
    "plt.show()\n",
    "#Python/Basemap绘制美国人口分布示意图\n",
    "#https://blog.csdn.net/ouening/article/details/54983701"
   ]
  },
  {
   "cell_type": "code",
   "execution_count": null,
   "metadata": {},
   "outputs": [],
   "source": []
  },
  {
   "cell_type": "code",
   "execution_count": null,
   "metadata": {},
   "outputs": [],
   "source": []
  }
 ],
 "metadata": {
  "kernelspec": {
   "display_name": "Python 3",
   "language": "python",
   "name": "python3"
  },
  "language_info": {
   "codemirror_mode": {
    "name": "ipython",
    "version": 3
   },
   "file_extension": ".py",
   "mimetype": "text/x-python",
   "name": "python",
   "nbconvert_exporter": "python",
   "pygments_lexer": "ipython3",
   "version": "3.7.3"
  }
 },
 "nbformat": 4,
 "nbformat_minor": 2
}
