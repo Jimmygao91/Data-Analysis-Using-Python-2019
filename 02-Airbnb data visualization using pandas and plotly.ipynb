{
 "cells": [
  {
   "cell_type": "markdown",
   "metadata": {},
   "source": [
    "#1、首先导入数据，数据为2019年纽约Airbnb公开数据"
   ]
  },
  {
   "cell_type": "code",
   "execution_count": null,
   "metadata": {},
   "outputs": [],
   "source": [
    "import pandas as pd\n",
    "import numpy as np\n",
    "\n",
    "filename=\"https://raw.githubusercontent.com/ShaoZC/Data-Analysis-Using-Python/master/new-york-city-airbnb-open-data.csv\"\n",
    "AB_NYC_2019=pd.read_csv(filename)\n"
   ]
  },
  {
   "cell_type": "markdown",
   "metadata": {},
   "source": [
    "#2、其次导入地图处理代码"
   ]
  },
  {
   "cell_type": "code",
   "execution_count": null,
   "metadata": {},
   "outputs": [],
   "source": [
    "from mpl_toolkits.basemap import Basemap\n",
    "import matplotlib.pyplot as plt"
   ]
  },
  {
   "cell_type": "markdown",
   "metadata": {},
   "source": [
    "#3、开始绘制地图"
   ]
  },
  {
   "cell_type": "markdown",
   "metadata": {},
   "source": [
    "##3.1 绘制美国人口分布示意图\n",
    "这部分是我模仿的，3.2开始由我自己完成"
   ]
  },
  {
   "cell_type": "code",
   "execution_count": 13,
   "metadata": {},
   "outputs": [
    {
     "data": {
      "text/plain": [
       "<Figure size 640x480 with 1 Axes>"
      ]
     },
     "metadata": {},
     "output_type": "display_data"
    }
   ],
   "source": [
    "import pandas as pd\n",
    "import numpy as np\n",
    "filename=\"https://raw.githubusercontent.com/ShaoZC/Data-Analysis-Using-Python/master/2014_us_cities.csv\"\n",
    "AB_NYC_2019=pd.read_csv(filename)\n",
    "# print(AB_NYC_2019.head(10))\n",
    "lat=np.array(AB_NYC_2019['lat'])\n",
    "lon=np.array(AB_NYC_2019['lon'])\n",
    "rev=np.array(AB_NYC_2019['pop'],dtype=float)\n",
    "\n",
    "from mpl_toolkits.basemap import Basemap\n",
    "import matplotlib.pyplot as plt\n",
    "\n",
    "map = Basemap(projection='stere',lat_0=90,lon_0=-105,\\\n",
    "            llcrnrlat=23 ,urcrnrlat=45,\\\n",
    "            llcrnrlon=-126.1,urcrnrlon=-65,\\\n",
    "            rsphere=6371200.,resolution='l',area_thresh=10000)\n",
    "map.drawmapboundary()   \n",
    "map.drawstates()        \n",
    "map.drawcoastlines()    \n",
    "map.drawcountries()     \n",
    "# map.drawcounties()      \n",
    "size=(rev/np.max(rev))*1000\n",
    "x,y = map(lon,lat)\n",
    "map.scatter(x,y,s=size)\n",
    "plt.title('Population distribution in America')\n",
    "plt.show()\n",
    "#Python/Basemap绘制美国人口分布示意图\n",
    "#https://blog.csdn.net/ouening/article/details/54983701"
   ]
  },
  {
   "cell_type": "markdown",
   "metadata": {},
   "source": [
    "##3.2 利用Basemap绘制纽约Airbnb分布情况"
   ]
  },
  {
   "cell_type": "code",
   "execution_count": 14,
   "metadata": {},
   "outputs": [
    {
     "data": {
      "image/png": "[encoded data removed]",
      "text/plain": [
       "<Figure size 432x288 with 1 Axes>"
      ]
     },
     "metadata": {},
     "output_type": "display_data"
    }
   ],
   "source": [
    "import pandas as pd\n",
    "import numpy as np\n",
    "# filename=\"https://raw.githubusercontent.com/ShaoZC/Data-Analysis-Using-Python/master/new-york-city-airbnb-open-data.csv\"\n",
    "filename=\"C:/Users/wade z shao/Documents/GitHub/Data-Analysis-Using-Python-2019/new-york-city-airbnb-open-data.csv\"\n",
    "AB_NYC_2019=pd.read_csv(filename)\n",
    "# print(AB_NYC_2019.head(10))\n",
    "lat=np.array(AB_NYC_2019['latitude'][1:5])\n",
    "lon=np.array(AB_NYC_2019['longitude'][1:5])\n",
    "rev=np.array(AB_NYC_2019['number_of_reviews'][1:5],dtype=float)\n",
    "\n",
    "from mpl_toolkits.basemap import Basemap\n",
    "import matplotlib.pyplot as plt\n",
    "\n",
    "map = Basemap(projection='stere',lat_0=40,lon_0=-74,\\\n",
    "            llcrnrlat=40 ,urcrnrlat=41,\\\n",
    "            llcrnrlon=-75,urcrnrlon=-73,\\\n",
    "            rsphere=6371200.,resolution='l',area_thresh=10000)\n",
    "map.drawmapboundary()\n",
    "map.drawstates()\n",
    "map.drawcoastlines()\n",
    "map.drawcountries()\n",
    "# map.drawcounties()\n",
    "size=(rev/np.max(rev))*1000\n",
    "x,y = map(lon,lat)\n",
    "map.scatter(x,y,s=size)\n",
    "plt.title('Airbnb in New York City')\n",
    "plt.show()"
   ]
  },
  {
   "cell_type": "markdown",
   "metadata": {},
   "source": [
    "##3.3 利用plotly绘制纽约Airbnb分布情况"
   ]
  },
  {
   "cell_type": "code",
   "execution_count": 3,
   "metadata": {},
   "outputs": [],
   "source": [
    "places=\"C:/Users/wade z shao/Documents/GitHub/Data-Analysis-Using-Python-2019/new-york-city-airbnb-open-data.csv\"\n",
    "# filename=\"https://raw.githubusercontent.com/ShaoZC/Data-Analysis-Using-Python/master/new-york-city-airbnb-open-data.csv\"\n",
    "import pandas as pd\n",
    "import plotly.graph_objects as go\n",
    "places=pd.read_csv(places)[0:50]\n",
    "#print(places.head())\n",
    "token='pk.eyJ1Ijoid2FkZXNoIiwiYSI6ImNrM28yeW1uZzF3d3EzbXBobGI2aHJvcDUifQ.Z4mYNvOTNS32aLaRD-A2ZQ'\n",
    "fig = go.Figure(go.Scattermapbox(mode='markers',\n",
    "                                 lon = places['longitude'],\n",
    "                                 lat = places['latitude'],\n",
    "                                 hovertext = places['name'],\n",
    "                                 hoverinfo = 'text',\n",
    "                                 marker_symbol = 'marker',\n",
    "                                 marker_size = 15\n",
    "                                 ))\n",
    "fig.update_layout(mapbox = {'accesstoken': token, 'center': {'lon': -73.97237, 'lat': 40.64749}, 'zoom': 11},\n",
    "                  margin = {'l': 0, 'r': 0, 't': 0, 'b': 0})\n",
    "# fig.show()\n",
    "#https://zhuanlan.zhihu.com/p/87163211\n",
    "#https://nbviewer.jupyter.org/github/BlackSheepwall0305/share-Jupyter-Notebooks/blob/master/%E7%9F%A5%E4%B9%8E_%E5%9C%B0%E5%9B%BE%E5%9B%9E%E7%AD%94.ipynbpla"
   ]
  },
  {
   "cell_type": "code",
   "execution_count": 10,
   "metadata": {},
   "outputs": [],
   "source": [
    "import pandas as pd\n",
    "import plotly.express as px\n",
    "places = \"C:/Users/wade z shao/Documents/GitHub/Data-Analysis-Using-Python-2019/new-york-city-airbnb-open-data.csv\"\n",
    "places=pd.read_csv(places)\n",
    "places=places[0:50]#数值实在太多了，仅取前50做演示\n",
    "token = 'pk.eyJ1Ijoid2FkZXNoIiwiYSI6ImNrM28yeW1uZzF3d3EzbXBobGI2aHJvcDUifQ.Z4mYNvOTNS32aLaRD-A2ZQ'\n",
    "fig2 = px.scatter_mapbox(places,\n",
    "                         lon='longitude',\n",
    "                         lat='latitude',\n",
    "                         size='price',\n",
    "                         size_max=15,\n",
    "                         color=\"number_of_reviews\",\n",
    "                         # color_continuous_scale=px.colors.carto.Temps\n",
    "                         color_continuous_scale=None\n",
    "                         # color_continuous_scale=px.colors.sequential.Aggrnyl\n",
    "                         )\n",
    "\n",
    "fig2.update_layout(mapbox={'accesstoken': token,\n",
    "                           'center': {'lon': -73.97237, 'lat': 40.64749},\n",
    "                           'zoom': 11},\n",
    "                   margin={'l': 0, 'r': 0, 't': 0, 'b': 0})\n",
    "fig2.show()"
   ]
  },
  {
   "cell_type": "markdown",
   "metadata": {},
   "source": [
    "可以看出，plotly效果更突出，也带有动态效果，缺点是运行时间比较长。"
   ]
  },
  {
   "cell_type": "markdown",
   "metadata": {},
   "source": [
    "the end"
   ]
  }
 ],
 "metadata": {
  "kernelspec": {
   "display_name": "Python 3",
   "language": "python",
   "name": "python3"
  },
  "language_info": {
   "codemirror_mode": {
    "name": "ipython",
    "version": 3
   },
   "file_extension": ".py",
   "mimetype": "text/x-python",
   "name": "python",
   "nbconvert_exporter": "python",
   "pygments_lexer": "ipython3",
   "version": "3.7.3"
  }
 },
 "nbformat": 4,
 "nbformat_minor": 2
}
